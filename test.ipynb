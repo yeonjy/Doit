{
  "nbformat": 4,
  "nbformat_minor": 0,
  "metadata": {
    "colab": {
      "name": "test.ipynb",
      "provenance": [],
      "collapsed_sections": [],
      "authorship_tag": "ABX9TyNapaOm4vmH59YpFDSsfw6G",
      "include_colab_link": true
    },
    "kernelspec": {
      "name": "python3",
      "display_name": "Python 3"
    },
    "language_info": {
      "name": "python"
    }
  },
  "cells": [
    {
      "cell_type": "markdown",
      "metadata": {
        "id": "view-in-github",
        "colab_type": "text"
      },
      "source": [
        "<a href=\"https://colab.research.google.com/github/yeonjy/deeplearning/blob/Do-It!/test.ipynb\" target=\"_parent\"><img src=\"https://colab.research.google.com/assets/colab-badge.svg\" alt=\"Open In Colab\"/></a>"
      ]
    },
    {
      "cell_type": "markdown",
      "metadata": {
        "id": "Y9jVrHHzR7GR"
      },
      "source": [
        "딥러닝 2-2"
      ]
    },
    {
      "cell_type": "code",
      "metadata": {
        "colab": {
          "base_uri": "https://localhost:8080/"
        },
        "id": "opT9pwvMJYBW",
        "outputId": "acd4af41-e0db-4917-e804-7b4842f5e491"
      },
      "source": [
        "my_list = [10, 'hello list', 20]\n",
        "print(my_list[1])"
      ],
      "execution_count": null,
      "outputs": [
        {
          "output_type": "stream",
          "text": [
            "hello list\n"
          ],
          "name": "stdout"
        }
      ]
    },
    {
      "cell_type": "code",
      "metadata": {
        "colab": {
          "base_uri": "https://localhost:8080/"
        },
        "id": "ZJsO_RreMIq_",
        "outputId": "bd2a81a4-cd43-4c52-a73d-41458bd0075f"
      },
      "source": [
        "my_list_2 = [[10,20,30],[40,50,60]]\n",
        "print(my_list_2[1][1])\n",
        "\n",
        "#2차원으로 생각, 차원 계속 늘릴 수 있음\n",
        "#[[10,20,30],\n",
        "# [40,50,60]]"
      ],
      "execution_count": null,
      "outputs": [
        {
          "output_type": "stream",
          "text": [
            "50\n"
          ],
          "name": "stdout"
        }
      ]
    },
    {
      "cell_type": "code",
      "metadata": {
        "colab": {
          "base_uri": "https://localhost:8080/"
        },
        "id": "mXgFa5dYNY6b",
        "outputId": "7200d596-fc56-4e95-f64d-fd2638b5e254"
      },
      "source": [
        "import numpy as np  #np는 그냥 관례\n",
        "print(np.__version__)"
      ],
      "execution_count": null,
      "outputs": [
        {
          "output_type": "stream",
          "text": [
            "1.19.5\n"
          ],
          "name": "stdout"
        }
      ]
    },
    {
      "cell_type": "code",
      "metadata": {
        "colab": {
          "base_uri": "https://localhost:8080/"
        },
        "id": "LomVB8bhN02z",
        "outputId": "9c776a4c-e697-4673-dd01-2cc914c06aad"
      },
      "source": [
        "my_arr = np.array([[10, 20, 30], [40, 50, 60]])\n",
        "print(my_arr)"
      ],
      "execution_count": null,
      "outputs": [
        {
          "output_type": "stream",
          "text": [
            "[[10 20 30]\n",
            " [40 50 60]]\n"
          ],
          "name": "stdout"
        }
      ]
    },
    {
      "cell_type": "code",
      "metadata": {
        "colab": {
          "base_uri": "https://localhost:8080/"
        },
        "id": "SgEi1lk4OF42",
        "outputId": "d452b184-cfe1-48c5-de1b-f998ebf72fed"
      },
      "source": [
        "type(my_arr)  #쥬피터, 코랩에서 코드 셀의 마지막 줄은 print() 함수를 사용 안해도 출력됨"
      ],
      "execution_count": null,
      "outputs": [
        {
          "output_type": "execute_result",
          "data": {
            "text/plain": [
              "numpy.ndarray"
            ]
          },
          "metadata": {
            "tags": []
          },
          "execution_count": 13
        }
      ]
    },
    {
      "cell_type": "code",
      "metadata": {
        "colab": {
          "base_uri": "https://localhost:8080/"
        },
        "id": "nC8xaoCTOfJU",
        "outputId": "05205d2f-99b8-4910-eeb9-e96e206d4a17"
      },
      "source": [
        "my_arr[0][2]"
      ],
      "execution_count": null,
      "outputs": [
        {
          "output_type": "execute_result",
          "data": {
            "text/plain": [
              "30"
            ]
          },
          "metadata": {
            "tags": []
          },
          "execution_count": 4
        }
      ]
    },
    {
      "cell_type": "code",
      "metadata": {
        "colab": {
          "base_uri": "https://localhost:8080/"
        },
        "id": "-p1-allsO0Nw",
        "outputId": "e44e150c-16e1-4e35-9daf-075a422877ef"
      },
      "source": [
        "np.sum(my_arr)"
      ],
      "execution_count": null,
      "outputs": [
        {
          "output_type": "execute_result",
          "data": {
            "text/plain": [
              "210"
            ]
          },
          "metadata": {
            "tags": []
          },
          "execution_count": 5
        }
      ]
    },
    {
      "cell_type": "code",
      "metadata": {
        "colab": {
          "base_uri": "https://localhost:8080/",
          "height": 265
        },
        "id": "CKRYvauzO-uI",
        "outputId": "21c858c8-75e8-41a3-d7df-2a4a88809475"
      },
      "source": [
        "import matplotlib.pyplot as plt  #plt로 하는게 관례\n",
        "plt.plot([1,2,3,4,5], [1,4,9,16,25])\n",
        "plt.show()  #입력 안해도 실행되기는 함"
      ],
      "execution_count": null,
      "outputs": [
        {
          "output_type": "display_data",
          "data": {
            "image/png": "[encoded data removed]",
            "text/plain": [
              "<Figure size 432x288 with 1 Axes>"
            ]
          },
          "metadata": {
            "tags": [],
            "needs_background": "light"
          }
        }
      ]
    },
    {
      "cell_type": "code",
      "metadata": {
        "colab": {
          "base_uri": "https://localhost:8080/",
          "height": 265
        },
        "id": "h-UhQR9oPhSR",
        "outputId": "f25dd5ac-000a-4a36-e598-a851f0731a8b"
      },
      "source": [
        "plt.scatter([1, 2, 3, 4, 5], [1, 4, 9, 16, 25])\n",
        "plt.show()"
      ],
      "execution_count": null,
      "outputs": [
        {
          "output_type": "display_data",
          "data": {
            "image/png": "[encoded data removed]",
            "text/plain": [
              "<Figure size 432x288 with 1 Axes>"
            ]
          },
          "metadata": {
            "tags": [],
            "needs_background": "light"
          }
        }
      ]
    },
    {
      "cell_type": "code",
      "metadata": {
        "colab": {
          "base_uri": "https://localhost:8080/",
          "height": 265
        },
        "id": "XfHrCXg0PxiH",
        "outputId": "7e50e4f8-33c8-4aa6-8d00-4dd55451aad2"
      },
      "source": [
        "x = np.random.randn(1000)  #평균 = 0, 표준편차 = 1 인 정규분포의 난수라서 0에 집중됨 = np.random.randn(1000)  #평균 = 0, 표준편차 = 1 인 정규분포의 난수라서 0에 집중됨\n",
        "y = np.random.randn(1000)\n",
        "plt.scatter(x, y)\n",
        "plt.show()"
      ],
      "execution_count": null,
      "outputs": [
        {
          "output_type": "display_data",
          "data": {
            "image/png": "[encoded data removed]",
            "text/plain": [
              "<Figure size 432x288 with 1 Axes>"
            ]
          },
          "metadata": {
            "tags": [],
            "needs_background": "light"
          }
        }
      ]
    },
    {
      "cell_type": "markdown",
      "metadata": {
        "id": "Iux4jqg8RjT7"
      },
      "source": [
        "딥러닝 3-1"
      ]
    },
    {
      "cell_type": "code",
      "metadata": {
        "colab": {
          "base_uri": "https://localhost:8080/"
        },
        "id": "tJVDL3qARvrl",
        "outputId": "89ee0dd6-5a1b-4581-e4ee-6d41315ac0c8"
      },
      "source": [
        "#당뇨병 환자 데이터당뇨병 환자 데이터\n",
        "from sklearn.datasets import load_diabetes\n",
        "diabetes = load_diabetes() #Bunch 클래스\n",
        "\n",
        "print(diabetes.data.shape, diabetes.target.shape) \n",
        "# 442개 행, 10개 열(2차원), 442개 원소(1차원) \n",
        "#특성(키): 열 방향, 샘플(한 사람 정보): 행 방향"
      ],
      "execution_count": null,
      "outputs": [
        {
          "output_type": "stream",
          "text": [
            "(442, 10) (442,)\n"
          ],
          "name": "stdout"
        }
      ]
    },
    {
      "cell_type": "code",
      "metadata": {
        "colab": {
          "base_uri": "https://localhost:8080/"
        },
        "id": "v9LpYnl1CSZG",
        "outputId": "3566c230-32ae-4e5d-8bbb-d59459dd5fd3"
      },
      "source": [
        "diabetes.data[0:3]"
      ],
      "execution_count": null,
      "outputs": [
        {
          "output_type": "execute_result",
          "data": {
            "text/plain": [
              "array([[ 0.03807591,  0.05068012,  0.06169621,  0.02187235, -0.0442235 ,\n",
              "        -0.03482076, -0.04340085, -0.00259226,  0.01990842, -0.01764613],\n",
              "       [-0.00188202, -0.04464164, -0.05147406, -0.02632783, -0.00844872,\n",
              "        -0.01916334,  0.07441156, -0.03949338, -0.06832974, -0.09220405],\n",
              "       [ 0.08529891,  0.05068012,  0.04445121, -0.00567061, -0.04559945,\n",
              "        -0.03419447, -0.03235593, -0.00259226,  0.00286377, -0.02593034]])"
            ]
          },
          "metadata": {
            "tags": []
          },
          "execution_count": 3
        }
      ]
    },
    {
      "cell_type": "code",
      "metadata": {
        "colab": {
          "base_uri": "https://localhost:8080/"
        },
        "id": "teXXgXAZCstB",
        "outputId": "b2f74494-f947-4a8a-ba57-4f09aa46c727"
      },
      "source": [
        "diabetes.target[:3]"
      ],
      "execution_count": null,
      "outputs": [
        {
          "output_type": "execute_result",
          "data": {
            "text/plain": [
              "array([151.,  75., 141.])"
            ]
          },
          "metadata": {
            "tags": []
          },
          "execution_count": 4
        }
      ]
    },
    {
      "cell_type": "code",
      "metadata": {
        "colab": {
          "base_uri": "https://localhost:8080/",
          "height": 279
        },
        "id": "8VqLAYyeDmCT",
        "outputId": "b2221204-d097-491e-ab6c-6991c537fd70"
      },
      "source": [
        "import matplotlib.pyplot as plt\n",
        "plt.scatter(diabetes.data[:, 2], diabetes.target) # [:, 2] = [모든 행, 세번째 특성]\n",
        "plt.xlabel('x')\n",
        "plt.ylabel('y')\n",
        "plt.show()"
      ],
      "execution_count": null,
      "outputs": [
        {
          "output_type": "display_data",
          "data": {
            "image/png": "[encoded data removed]",
            "text/plain": [
              "<Figure size 432x288 with 1 Axes>"
            ]
          },
          "metadata": {
            "tags": [],
            "needs_background": "light"
          }
        }
      ]
    },
    {
      "cell_type": "code",
      "metadata": {
        "id": "zErjQ5UXCoii"
      },
      "source": [
        "x = diabetes.data[:, 2]\n",
        "y = diabetes.target"
      ],
      "execution_count": null,
      "outputs": []
    },
    {
      "cell_type": "markdown",
      "metadata": {
        "id": "t0YMf98yGGJh"
      },
      "source": [
        "딥러닝 3-2"
      ]
    },
    {
      "cell_type": "markdown",
      "metadata": {
        "id": "bSL4XCDk8j6J"
      },
      "source": [
        "y(예측값) = w(가중치) * x(입력) + b"
      ]
    },
    {
      "cell_type": "code",
      "metadata": {
        "colab": {
          "base_uri": "https://localhost:8080/"
        },
        "id": "RtJ2fjXJ5XC6",
        "outputId": "56f7a578-4fb3-40a8-db41-114c06888204"
      },
      "source": [
        "w = 1.0\n",
        "b = 1.0\n",
        "y_hat = x[0] * w + b  # x = 당뇨병의 번째 특성, x[0] = x의 첫번째 샘플\n",
        "print(y_hat)\n",
        "\n",
        "print(y[0])"
      ],
      "execution_count": null,
      "outputs": [
        {
          "output_type": "stream",
          "text": [
            "1.0616962065186886\n",
            "151.0\n"
          ],
          "name": "stdout"
        }
      ]
    },
    {
      "cell_type": "code",
      "metadata": {
        "colab": {
          "base_uri": "https://localhost:8080/"
        },
        "id": "TuNhygm8GSWZ",
        "outputId": "414a77c3-3847-4ad9-fcea-59741a7d61ea"
      },
      "source": [
        "w_inc = w + 0.1\n",
        "y_hat_inc = x[0] * w_inc + b\n",
        "print(y_hat_inc)\n",
        "\n",
        "print(y[0])"
      ],
      "execution_count": null,
      "outputs": [
        {
          "output_type": "stream",
          "text": [
            "1.0678658271705574\n",
            "151.0\n"
          ],
          "name": "stdout"
        }
      ]
    },
    {
      "cell_type": "markdown",
      "metadata": {
        "id": "1GW9EJq0G07V"
      },
      "source": [
        "w를 0.1 증가시킨건 올바른 결정이었음!\n",
        "\n",
        "---\n",
        "\n",
        "y_hat 늘어난 비율을 알고 싶다!"
      ]
    },
    {
      "cell_type": "code",
      "metadata": {
        "colab": {
          "base_uri": "https://localhost:8080/"
        },
        "id": "jIk5u5UaHcB9",
        "outputId": "223e9e90-64b1-4c80-d110-29bcf4e85061"
      },
      "source": [
        "w_rate = (y_hat_inc - y_hat) / (w_inc - w) #x에 대한 식으로 계산하면 변화율은 x[0](샘플값) 자체\n",
        "print(w_rate)"
      ],
      "execution_count": null,
      "outputs": [
        {
          "output_type": "stream",
          "text": [
            "0.061696206518688734\n"
          ],
          "name": "stdout"
        }
      ]
    },
    {
      "cell_type": "markdown",
      "metadata": {
        "id": "PRrYQMlqJGsi"
      },
      "source": [
        "따라서 변화율을 보고 w를 어떻게 바꿔야 할지 알 수 있음\n"
      ]
    },
    {
      "cell_type": "code",
      "metadata": {
        "id": "4FEqiZAsKEiB",
        "colab": {
          "base_uri": "https://localhost:8080/"
        },
        "outputId": "64a609ca-bf60-47c1-c51d-0fbb77027974"
      },
      "source": [
        "w_new = w + w_rate\n",
        "print(w_new)"
      ],
      "execution_count": null,
      "outputs": [
        {
          "output_type": "stream",
          "text": [
            "1.0616962065186888\n"
          ],
          "name": "stdout"
        }
      ]
    },
    {
      "cell_type": "markdown",
      "metadata": {
        "id": "k1kZ716WJA4u"
      },
      "source": [
        "변화율로 절편 업데이트"
      ]
    },
    {
      "cell_type": "code",
      "metadata": {
        "colab": {
          "base_uri": "https://localhost:8080/"
        },
        "id": "uGYtiFVuJDnH",
        "outputId": "91b36ef3-c79b-4b91-833c-87857c1baa37"
      },
      "source": [
        "b_inc = b + 0.1\n",
        "y_hat_inc = x[0] * w + b_inc\n",
        "print(y_hat_inc)\n",
        "\n",
        "b_rate = (y_hat_inc - y_hat) / (b_inc - b)\n",
        "print(b_rate)"
      ],
      "execution_count": null,
      "outputs": [
        {
          "output_type": "stream",
          "text": [
            "1.1616962065186887\n",
            "1.0\n"
          ],
          "name": "stdout"
        }
      ]
    },
    {
      "cell_type": "code",
      "metadata": {
        "colab": {
          "base_uri": "https://localhost:8080/"
        },
        "id": "jXu3po8DJmou",
        "outputId": "b3d59aa9-4e7e-41ef-fe09-029ecbad9ecb"
      },
      "source": [
        "b_new = b + 1\n",
        "print(b_new)"
      ],
      "execution_count": null,
      "outputs": [
        {
          "output_type": "stream",
          "text": [
            "2.0\n"
          ],
          "name": "stdout"
        }
      ]
    },
    {
      "cell_type": "markdown",
      "metadata": {
        "id": "6OHZofs1Jryb"
      },
      "source": [
        "w_new = w + w_rate 니까\n",
        "b_new = b + 1"
      ]
    },
    {
      "cell_type": "markdown",
      "metadata": {
        "id": "-_veraGrKNhM"
      },
      "source": [
        "오차와 변화율을 곱하여 가중치를 업데이트"
      ]
    },
    {
      "cell_type": "code",
      "metadata": {
        "colab": {
          "base_uri": "https://localhost:8080/"
        },
        "id": "-EhmFyz3J2nA",
        "outputId": "07fe1070-4817-449f-b337-49d2943bf0cf"
      },
      "source": [
        "err = y[0] - y_hat\n",
        "w_new = w + w_rate * err  # y > y_hat: 차이 클수록 큰 양수, y < y_hat:차이 클수록 작은rr = y[0] - y_hat\n",
        "w_new = w + w_rate * err  # y > y_hat: 차이 클수록 큰 양수, y < y_hat:차이 클수록 작은 음수\n",
        "b_new = b + 1 * err\n",
        "print(w_new, b_new)"
      ],
      "execution_count": null,
      "outputs": [
        {
          "output_type": "stream",
          "text": [
            "10.250624555904514 150.9383037934813\n"
          ],
          "name": "stdout"
        }
      ]
    },
    {
      "cell_type": "markdown",
      "metadata": {
        "id": "Ou0cTITx-BR-"
      },
      "source": [
        "전체 샘플을 반복하여 가중치와 절편 조정"
      ]
    },
    {
      "cell_type": "code",
      "metadata": {
        "colab": {
          "base_uri": "https://localhost:8080/"
        },
        "id": "02cU48nI-J1w",
        "outputId": "4f217384-77cc-4460-ffce-b9e516720895"
      },
      "source": [
        "for x_i, y_i in zip(x, y):\n",
        "  y_hat = x_i * w + b\n",
        "  err = y_i - y_hat\n",
        "  w_rate = x_i\n",
        "  w = w + w_rate * err\n",
        "  b = b + 1 * err\n",
        "print(w, b)"
      ],
      "execution_count": null,
      "outputs": [
        {
          "output_type": "stream",
          "text": [
            "587.8654539985689 99.40935564531424\n"
          ],
          "name": "stdout"
        }
      ]
    },
    {
      "cell_type": "markdown",
      "metadata": {
        "id": "7eao2fnh_HUU"
      },
      "source": [
        "어떤 모델인지 그래프로 알기"
      ]
    },
    {
      "cell_type": "code",
      "metadata": {
        "colab": {
          "base_uri": "https://localhost:8080/",
          "height": 279
        },
        "id": "S0euAZxV_sva",
        "outputId": "bd1514ec-55e2-467f-c1f9-10c8abba2c17"
      },
      "source": [
        "plt.scatter(x, y)\n",
        "pt1 = (-0.1, -0.1 * w + b)\n",
        "pt2 = (0.15, 0.15 * w + b)\n",
        "plt.plot([pt1[0], pt2[0]], [pt1[1], pt2[1]])\n",
        "plt.xlabel('x')\n",
        "plt.ylabel('y')\n",
        "plt.show( )"
      ],
      "execution_count": null,
      "outputs": [
        {
          "output_type": "display_data",
          "data": {
            "image/png": "[encoded data removed]",
            "text/plain": [
              "<Figure size 432x288 with 1 Axes>"
            ]
          },
          "metadata": {
            "tags": [],
            "needs_background": "light"
          }
        }
      ]
    },
    {
      "cell_type": "markdown",
      "metadata": {
        "id": "HoXME9c5A4bA"
      },
      "source": [
        "더 정확한 모델 찾기"
      ]
    },
    {
      "cell_type": "code",
      "metadata": {
        "id": "WJY7UU_gA79-",
        "colab": {
          "base_uri": "https://localhost:8080/"
        },
        "outputId": "7d3f3c6a-cd86-40de-8abe-9ab707287810"
      },
      "source": [
        "for i in range(1, 100):\n",
        "  for x_i, y_i in zip(x, y):\n",
        "    y_hat= x_i * w + b\n",
        "    err = y_i - y_hat\n",
        "    w_rate = x_i\n",
        "    w = w + w_rate * err\n",
        "    b = b + 1 * err\n",
        "print(w, b)"
      ],
      "execution_count": null,
      "outputs": [
        {
          "output_type": "stream",
          "text": [
            "913.5973364345905 123.39414383177204\n"
          ],
          "name": "stdout"
        }
      ]
    },
    {
      "cell_type": "code",
      "metadata": {
        "colab": {
          "base_uri": "https://localhost:8080/"
        },
        "id": "acSWH1UPMF6b",
        "outputId": "f5a72f28-ee18-40b3-bc5f-e2edbfc42c93"
      },
      "source": [
        "x_new = 0.18\n",
        "y_pred = x_new * w + b\n",
        "print(y_pred)"
      ],
      "execution_count": null,
      "outputs": [
        {
          "output_type": "stream",
          "text": [
            "287.8416643899983\n"
          ],
          "name": "stdout"
        }
      ]
    },
    {
      "cell_type": "code",
      "metadata": {
        "colab": {
          "base_uri": "https://localhost:8080/",
          "height": 279
        },
        "id": "Vj8Pf4YAMPJ-",
        "outputId": "b17f2891-0021-47c5-aa8f-9221c961fe9d"
      },
      "source": [
        "plt.scatter(x, y)\n",
        "plt.scatter(x_new, y_pred)\n",
        "plt.xlabel('x')\n",
        "plt.ylabel('y')\n",
        "plt.show( )"
      ],
      "execution_count": null,
      "outputs": [
        {
          "output_type": "display_data",
          "data": {
            "image/png": "[encoded data removed]",
            "text/plain": [
              "<Figure size 432x288 with 1 Axes>"
            ]
          },
          "metadata": {
            "tags": [],
            "needs_background": "light"
          }
        }
      ]
    },
    {
      "cell_type": "markdown",
      "metadata": {
        "id": "xW0ZdBANpfQp"
      },
      "source": [
        "3장 3절"
      ]
    },
    {
      "cell_type": "markdown",
      "metadata": {
        "id": "X1IPMro_Eaf_"
      },
      "source": [
        "3장 4절"
      ]
    },
    {
      "cell_type": "code",
      "metadata": {
        "id": "zZRekQ5fpzBE"
      },
      "source": [
        "#Neuron 클래스 만들기\n",
        "\n",
        "class Neuron:\n",
        "  def __init__(self):\n",
        "    self.w = 1.0    # 가중치 초기화\n",
        "    self.b = 1.0    # 절편 초기화화"
      ],
      "execution_count": null,
      "outputs": []
    },
    {
      "cell_type": "code",
      "metadata": {
        "id": "iN4Vzf4YHbr6"
      },
      "source": [
        "# 정방향 계산 만들기 (예측값 계산)\n",
        "def forpass(self, x):\n",
        "  y_hat = x * self.w + self.b  #직선 방정식 계산 \n",
        "  return y_hat"
      ],
      "execution_count": null,
      "outputs": []
    },
    {
      "cell_type": "code",
      "metadata": {
        "id": "Z3jfPlE-Kgj9"
      },
      "source": [
        "# 역방향 계산 만들기\n",
        "def backprop(self,x, err):\n",
        "  w_grad = x * err\n",
        "  b_grad = 1 * err\n",
        "  return w_grad, b_grad"
      ],
      "execution_count": null,
      "outputs": []
    },
    {
      "cell_type": "code",
      "metadata": {
        "id": "S9lyxLpDNMUR"
      },
      "source": [
        "#fit() 메서드 구현\n",
        "def fit(self, x, y, epochs=100):   \n",
        "  for i in range(epochs):          # epochs만큼 반복\n",
        "    for x_i, y_i in zip(x,y):      # 모든 샘플에 대해 반복\n",
        "      y_hat = self.forpass(x_i)    # 정방향 계산\n",
        "      err = -(y_i - y_hat)         # 오차 계산\n",
        "      w_grad, b_grad = self.backprop(x_i, err)  # 역방향 계산\n",
        "      self.w -= w_grad             # 가중치 업데이트\n",
        "      self.b -= b_grad             # 절편 업데이트"
      ],
      "execution_count": null,
      "outputs": []
    },
    {
      "cell_type": "code",
      "metadata": {
        "colab": {
          "base_uri": "https://localhost:8080/",
          "height": 239
        },
        "id": "ZdmC7SnBQeZv",
        "outputId": "b3121b40-9013-4e4b-99d9-e88f422809c0"
      },
      "source": [
        "# 뉴런 훈련\n",
        "\n",
        "neuron = Neuron( )\n",
        "neuron.fit(x, y)\n",
        "\n",
        "plt.scatter(x, y)\n",
        "pt1 = (-0.1, -0.1 * neuron.w + neuron.b)\n",
        "pt2 = (0.15, 0.15 * neuron.w + neuron.b)\n",
        "plt.plot([pt1[0], pt2[0]], [pt1[1], pt2[1]])\n",
        "plt.xlabel('x')\n",
        "plt.ylabel('y')\n",
        "plt.show"
      ],
      "execution_count": null,
      "outputs": [
        {
          "output_type": "error",
          "ename": "AttributeError",
          "evalue": "ignored",
          "traceback": [
            "\u001b[0;31m---------------------------------------------------------------------------\u001b[0m",
            "\u001b[0;31mAttributeError\u001b[0m                            Traceback (most recent call last)",
            "\u001b[0;32m<ipython-input-8-60550c3af36a>\u001b[0m in \u001b[0;36m<module>\u001b[0;34m()\u001b[0m\n\u001b[1;32m      2\u001b[0m \u001b[0;34m\u001b[0m\u001b[0m\n\u001b[1;32m      3\u001b[0m \u001b[0mneuron\u001b[0m \u001b[0;34m=\u001b[0m \u001b[0mNeuron\u001b[0m\u001b[0;34m(\u001b[0m \u001b[0;34m)\u001b[0m\u001b[0;34m\u001b[0m\u001b[0;34m\u001b[0m\u001b[0m\n\u001b[0;32m----> 4\u001b[0;31m \u001b[0mneuron\u001b[0m\u001b[0;34m.\u001b[0m\u001b[0mfit\u001b[0m\u001b[0;34m(\u001b[0m\u001b[0mx\u001b[0m\u001b[0;34m,\u001b[0m \u001b[0my\u001b[0m\u001b[0;34m)\u001b[0m\u001b[0;34m\u001b[0m\u001b[0;34m\u001b[0m\u001b[0m\n\u001b[0m\u001b[1;32m      5\u001b[0m \u001b[0;34m\u001b[0m\u001b[0m\n\u001b[1;32m      6\u001b[0m \u001b[0mplt\u001b[0m\u001b[0;34m.\u001b[0m\u001b[0mscatter\u001b[0m\u001b[0;34m(\u001b[0m\u001b[0mx\u001b[0m\u001b[0;34m,\u001b[0m \u001b[0my\u001b[0m\u001b[0;34m)\u001b[0m\u001b[0;34m\u001b[0m\u001b[0;34m\u001b[0m\u001b[0m\n",
            "\u001b[0;31mAttributeError\u001b[0m: 'Neuron' object has no attribute 'fit'"
          ]
        }
      ]
    },
    {
      "cell_type": "markdown",
      "metadata": {
        "id": "oJsvsPrMRyZ3"
      },
      "source": [
        "4장 1절~2절"
      ]
    },
    {
      "cell_type": "code",
      "metadata": {
        "id": "nPzLrI-6R5hp"
      },
      "source": [
        ""
      ],
      "execution_count": null,
      "outputs": []
    }
  ]
}