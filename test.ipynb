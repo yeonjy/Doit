{
  "nbformat": 4,
  "nbformat_minor": 0,
  "metadata": {
    "colab": {
      "name": "test.ipynb",
      "provenance": [],
      "collapsed_sections": [],
      "authorship_tag": "ABX9TyPjEyTiT9RqkLsG2DTvsB/K",
      "include_colab_link": true
    },
    "kernelspec": {
      "name": "python3",
      "display_name": "Python 3"
    },
    "language_info": {
      "name": "python"
    }
  },
  "cells": [
    {
      "cell_type": "markdown",
      "metadata": {
        "id": "view-in-github",
        "colab_type": "text"
      },
      "source": [
        "<a href=\"https://colab.research.google.com/github/yeonjy/deeplearning/blob/Do-It!/test.ipynb\" target=\"_parent\"><img src=\"https://colab.research.google.com/assets/colab-badge.svg\" alt=\"Open In Colab\"/></a>"
      ]
    },
    {
      "cell_type": "markdown",
      "metadata": {
        "id": "Y9jVrHHzR7GR"
      },
      "source": [
        "딥러닝 2-2"
      ]
    },
    {
      "cell_type": "code",
      "metadata": {
        "colab": {
          "base_uri": "https://localhost:8080/"
        },
        "id": "opT9pwvMJYBW",
        "outputId": "2e1ce5db-7605-4dc6-e6a0-f66f802c64d9"
      },
      "source": [
        "my_list = [10, 'hello list', 20]\n",
        "print(my_list[1])"
      ],
      "execution_count": 9,
      "outputs": [
        {
          "output_type": "stream",
          "text": [
            "hello list\n"
          ],
          "name": "stdout"
        }
      ]
    },
    {
      "cell_type": "code",
      "metadata": {
        "colab": {
          "base_uri": "https://localhost:8080/"
        },
        "id": "ZJsO_RreMIq_",
        "outputId": "37d637e6-ae80-43c2-af09-ac5bb4109c85"
      },
      "source": [
        "my_list_2 = [[10,20,30],[40,50,60]]\n",
        "print(my_list_2[1][1])\n",
        "\n",
        "#2차원으로 생각, 차원 계속 늘릴 수 있음\n",
        "#[[10,20,30],\n",
        "# [40,50,60]]"
      ],
      "execution_count": 10,
      "outputs": [
        {
          "output_type": "stream",
          "text": [
            "50\n"
          ],
          "name": "stdout"
        }
      ]
    },
    {
      "cell_type": "code",
      "metadata": {
        "colab": {
          "base_uri": "https://localhost:8080/"
        },
        "id": "mXgFa5dYNY6b",
        "outputId": "0dcf3e1d-0538-4c77-a936-7948113ca784"
      },
      "source": [
        "import numpy as np  #np는 그냥 관례\n",
        "print(np.__version__)"
      ],
      "execution_count": 11,
      "outputs": [
        {
          "output_type": "stream",
          "text": [
            "1.19.5\n"
          ],
          "name": "stdout"
        }
      ]
    },
    {
      "cell_type": "code",
      "metadata": {
        "colab": {
          "base_uri": "https://localhost:8080/"
        },
        "id": "LomVB8bhN02z",
        "outputId": "541d3c94-4fa3-4de9-be12-763f82c1d6a4"
      },
      "source": [
        "my_arr = np.array([[10, 20, 30], [40, 50, 60]])\n",
        "print(my_arr)"
      ],
      "execution_count": 12,
      "outputs": [
        {
          "output_type": "stream",
          "text": [
            "[[10 20 30]\n",
            " [40 50 60]]\n"
          ],
          "name": "stdout"
        }
      ]
    },
    {
      "cell_type": "code",
      "metadata": {
        "colab": {
          "base_uri": "https://localhost:8080/"
        },
        "id": "SgEi1lk4OF42",
        "outputId": "d452b184-cfe1-48c5-de1b-f998ebf72fed"
      },
      "source": [
        "type(my_arr)  #쥬피터, 코랩에서 코드 셀의 마지막 줄은 print() 함수를 사용 안해도 출력됨"
      ],
      "execution_count": 13,
      "outputs": [
        {
          "output_type": "execute_result",
          "data": {
            "text/plain": [
              "numpy.ndarray"
            ]
          },
          "metadata": {
            "tags": []
          },
          "execution_count": 13
        }
      ]
    },
    {
      "cell_type": "code",
      "metadata": {
        "colab": {
          "base_uri": "https://localhost:8080/"
        },
        "id": "nC8xaoCTOfJU",
        "outputId": "b7cf4753-6649-48f1-8fb8-fa7250cd177c"
      },
      "source": [
        "my_arr[0][2]"
      ],
      "execution_count": 14,
      "outputs": [
        {
          "output_type": "execute_result",
          "data": {
            "text/plain": [
              "30"
            ]
          },
          "metadata": {
            "tags": []
          },
          "execution_count": 14
        }
      ]
    },
    {
      "cell_type": "code",
      "metadata": {
        "colab": {
          "base_uri": "https://localhost:8080/"
        },
        "id": "-p1-allsO0Nw",
        "outputId": "9271c80a-450b-490d-a041-2d365c810c2c"
      },
      "source": [
        "np.sum(my_arr)"
      ],
      "execution_count": 15,
      "outputs": [
        {
          "output_type": "execute_result",
          "data": {
            "text/plain": [
              "210"
            ]
          },
          "metadata": {
            "tags": []
          },
          "execution_count": 15
        }
      ]
    },
    {
      "cell_type": "code",
      "metadata": {
        "colab": {
          "base_uri": "https://localhost:8080/",
          "height": 265
        },
        "id": "CKRYvauzO-uI",
        "outputId": "0ad4ef04-5392-4ae9-9c43-652c83a4075f"
      },
      "source": [
        "import matplotlib.pyplot as plt  #plt로 하는게 관례\n",
        "plt.plot([1,2,3,4,5], [1,4,9,16,25])\n",
        "plt.show()  #입력 안해도 실행되기는 함"
      ],
      "execution_count": 16,
      "outputs": [
        {
          "output_type": "display_data",
          "data": {
            "image/png": "[encoded data removed]",
            "text/plain": [
              "<Figure size 432x288 with 1 Axes>"
            ]
          },
          "metadata": {
            "tags": [],
            "needs_background": "light"
          }
        }
      ]
    },
    {
      "cell_type": "code",
      "metadata": {
        "colab": {
          "base_uri": "https://localhost:8080/",
          "height": 265
        },
        "id": "h-UhQR9oPhSR",
        "outputId": "f25dd5ac-000a-4a36-e598-a851f0731a8b"
      },
      "source": [
        "plt.scatter([1, 2, 3, 4, 5], [1, 4, 9, 16, 25])\n",
        "plt.show()"
      ],
      "execution_count": 17,
      "outputs": [
        {
          "output_type": "display_data",
          "data": {
            "image/png": "[encoded data removed]",
            "text/plain": [
              "<Figure size 432x288 with 1 Axes>"
            ]
          },
          "metadata": {
            "tags": [],
            "needs_background": "light"
          }
        }
      ]
    },
    {
      "cell_type": "code",
      "metadata": {
        "colab": {
          "base_uri": "https://localhost:8080/",
          "height": 265
        },
        "id": "XfHrCXg0PxiH",
        "outputId": "5b9496e8-0601-4163-c412-5eb60cfd3860"
      },
      "source": [
        "x = np.random.randn(1000)  #평균 = 0, 표준편차 = 1 인 정규분포의 난수라서 0에 집중됨 = np.random.randn(1000)  #평균 = 0, 표준편차 = 1 인 정규분포의 난수라서 0에 집중됨\n",
        "y = np.random.randn(1000)\n",
        "plt.scatter(x, y)\n",
        "plt.show()"
      ],
      "execution_count": 19,
      "outputs": [
        {
          "output_type": "display_data",
          "data": {
            "image/png": "[encoded data removed]",
            "text/plain": [
              "<Figure size 432x288 with 1 Axes>"
            ]
          },
          "metadata": {
            "tags": [],
            "needs_background": "light"
          }
        }
      ]
    },
    {
      "cell_type": "markdown",
      "metadata": {
        "id": "Iux4jqg8RjT7"
      },
      "source": [
        "딥러닝 3-1"
      ]
    },
    {
      "cell_type": "code",
      "metadata": {
        "colab": {
          "base_uri": "https://localhost:8080/"
        },
        "id": "tJVDL3qARvrl",
        "outputId": "217d7328-be50-4e6c-b07d-c90085175d7e"
      },
      "source": [
        "#당뇨병 환자 데이터당뇨병 환자 데이터\n",
        "from sklearn.datasets import load_diabetes\n",
        "diabetes = load_diabetes() #Bunch 클래스\n",
        "\n",
        "print(diabetes.data.shape, diabetes.target.shape) \n",
        "# 442개 행, 10개 열(2차원), 442개 원소(1차원) \n",
        "#특성(키): 열 방향, 샘플(한 사람 정보): 행 방향"
      ],
      "execution_count": 20,
      "outputs": [
        {
          "output_type": "stream",
          "text": [
            "(442, 10) (442,)\n"
          ],
          "name": "stdout"
        }
      ]
    },
    {
      "cell_type": "code",
      "metadata": {
        "colab": {
          "base_uri": "https://localhost:8080/"
        },
        "id": "v9LpYnl1CSZG",
        "outputId": "3b28c67c-7b38-465e-b9b3-8f474ed0e2a1"
      },
      "source": [
        "diabetes.data[0:3]"
      ],
      "execution_count": 21,
      "outputs": [
        {
          "output_type": "execute_result",
          "data": {
            "text/plain": [
              "array([[ 0.03807591,  0.05068012,  0.06169621,  0.02187235, -0.0442235 ,\n",
              "        -0.03482076, -0.04340085, -0.00259226,  0.01990842, -0.01764613],\n",
              "       [-0.00188202, -0.04464164, -0.05147406, -0.02632783, -0.00844872,\n",
              "        -0.01916334,  0.07441156, -0.03949338, -0.06832974, -0.09220405],\n",
              "       [ 0.08529891,  0.05068012,  0.04445121, -0.00567061, -0.04559945,\n",
              "        -0.03419447, -0.03235593, -0.00259226,  0.00286377, -0.02593034]])"
            ]
          },
          "metadata": {
            "tags": []
          },
          "execution_count": 21
        }
      ]
    },
    {
      "cell_type": "code",
      "metadata": {
        "colab": {
          "base_uri": "https://localhost:8080/"
        },
        "id": "teXXgXAZCstB",
        "outputId": "d197cd3e-7aa6-492e-ec8d-adaf67d9e6ff"
      },
      "source": [
        "diabetes.target[:3]"
      ],
      "execution_count": 22,
      "outputs": [
        {
          "output_type": "execute_result",
          "data": {
            "text/plain": [
              "array([151.,  75., 141.])"
            ]
          },
          "metadata": {
            "tags": []
          },
          "execution_count": 22
        }
      ]
    },
    {
      "cell_type": "code",
      "metadata": {
        "colab": {
          "base_uri": "https://localhost:8080/",
          "height": 279
        },
        "id": "8VqLAYyeDmCT",
        "outputId": "49d5c335-49dc-4826-eca2-a752548c963b"
      },
      "source": [
        "import matplotlib.pyplot as plt\n",
        "plt.scatter(diabetes.data[:, 2], diabetes.target) # [:, 2] = [모든 행, 세번째 특성]\n",
        "plt.xlabel('x')\n",
        "plt.ylabel('y')\n",
        "plt.show()"
      ],
      "execution_count": 23,
      "outputs": [
        {
          "output_type": "display_data",
          "data": {
            "image/png": "[encoded data removed]",
            "text/plain": [
              "<Figure size 432x288 with 1 Axes>"
            ]
          },
          "metadata": {
            "tags": [],
            "needs_background": "light"
          }
        }
      ]
    },
    {
      "cell_type": "code",
      "metadata": {
        "id": "zErjQ5UXCoii"
      },
      "source": [
        "x = diabetes.data[:, 2]\n",
        "y = diabetes.target"
      ],
      "execution_count": 24,
      "outputs": []
    },
    {
      "cell_type": "markdown",
      "metadata": {
        "id": "t0YMf98yGGJh"
      },
      "source": [
        "딥러닝 3-2"
      ]
    },
    {
      "cell_type": "markdown",
      "metadata": {
        "id": "bSL4XCDk8j6J"
      },
      "source": [
        "y(예측값) = w(가중치) * x(입력) + b"
      ]
    },
    {
      "cell_type": "code",
      "metadata": {
        "colab": {
          "base_uri": "https://localhost:8080/"
        },
        "id": "RtJ2fjXJ5XC6",
        "outputId": "ebb843be-aea4-4c0e-bc1b-3e8f6f8d0fc4"
      },
      "source": [
        "w = 1.0\n",
        "b = 1.0\n",
        "y_hat = x[0] * w + b  # x = 당뇨병의 번째 특성, x[0] = x의 첫번째 샘플\n",
        "print(y_hat)\n",
        "\n",
        "print(y[0])"
      ],
      "execution_count": 28,
      "outputs": [
        {
          "output_type": "stream",
          "text": [
            "1.0616962065186886\n",
            "151.0\n"
          ],
          "name": "stdout"
        }
      ]
    },
    {
      "cell_type": "code",
      "metadata": {
        "colab": {
          "base_uri": "https://localhost:8080/"
        },
        "id": "TuNhygm8GSWZ",
        "outputId": "da03906c-6df8-4247-a25d-f7362a2c0f4a"
      },
      "source": [
        "w_inc = w + 0.1\n",
        "y_hat_inc = x[0] * w_inc + b\n",
        "print(y_hat_inc)\n",
        "\n",
        "print(y[0])"
      ],
      "execution_count": 27,
      "outputs": [
        {
          "output_type": "stream",
          "text": [
            "1.0678658271705574\n",
            "151.0\n"
          ],
          "name": "stdout"
        }
      ]
    },
    {
      "cell_type": "markdown",
      "metadata": {
        "id": "1GW9EJq0G07V"
      },
      "source": [
        "w를 0.1 증가시킨건 올바른 결정이었음!\n",
        "\n",
        "---\n",
        "\n",
        "y_hat 늘어난 비율을 알고 싶다!"
      ]
    },
    {
      "cell_type": "code",
      "metadata": {
        "colab": {
          "base_uri": "https://localhost:8080/"
        },
        "id": "jIk5u5UaHcB9",
        "outputId": "3c7e65bb-426d-4906-f320-0dc0afbf9856"
      },
      "source": [
        "w_rate = (y_hat_inc - y_hat) / (w_inc - w) #x에 대한 식으로 계산하면 변화율은 x[0](샘플값) 자체\n",
        "print(w_rate)"
      ],
      "execution_count": 29,
      "outputs": [
        {
          "output_type": "stream",
          "text": [
            "0.061696206518688734\n"
          ],
          "name": "stdout"
        }
      ]
    },
    {
      "cell_type": "markdown",
      "metadata": {
        "id": "PRrYQMlqJGsi"
      },
      "source": [
        "따라서 변화율을 보고 w를 어떻게 바꿔야 할지 알 수 있음"
      ]
    },
    {
      "cell_type": "code",
      "metadata": {
        "id": "4FEqiZAsKEiB"
      },
      "source": [
        ""
      ],
      "execution_count": null,
      "outputs": []
    }
  ]
}